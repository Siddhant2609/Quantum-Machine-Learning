{
  "nbformat": 4,
  "nbformat_minor": 0,
  "metadata": {
    "colab": {
      "name": "QCNN with Pytorch and Qiskit.ipynb",
      "provenance": []
    },
    "kernelspec": {
      "name": "python3",
      "display_name": "Python 3"
    },
    "language_info": {
      "name": "python"
    },
    "accelerator": "GPU"
  },
  "cells": [
    {
      "cell_type": "code",
      "execution_count": 1,
      "metadata": {
        "id": "9RxprXwt49SA"
      },
      "outputs": [],
      "source": [
        "import numpy as np\n",
        "import matplotlib.pyplot as plt\n",
        "\n",
        "import torch\n",
        "from torch.autograd import Function\n",
        "from torchvision import datasets, transforms\n",
        "import torch.optim as optim\n",
        "import torch.nn as nn\n",
        "import torch.nn.functional as F\n",
        "\n",
        "from torchsummary import summary\n",
        "\n",
        "import qiskit\n",
        "from qiskit.visualization import *"
      ]
    },
    {
      "cell_type": "code",
      "source": [
        "use_cuda = torch.cuda.is_available()\n",
        "print('CUDA available:', use_cuda)\n",
        "\n",
        "if use_cuda:\n",
        "  device = torch.device('cuda')\n",
        "  print('Training on GPU...')\n",
        "\n",
        "else:\n",
        "  device = torch.device('cpu')\n",
        "  print('Training on CPU...')"
      ],
      "metadata": {
        "colab": {
          "base_uri": "https://localhost:8080/"
        },
        "id": "YQgHj0PU56WP",
        "outputId": "b816663a-5b0d-4b28-ad13-1a6537b04326"
      },
      "execution_count": 2,
      "outputs": [
        {
          "output_type": "stream",
          "name": "stdout",
          "text": [
            "CUDA available: True\n",
            "Training on GPU...\n"
          ]
        }
      ]
    },
    {
      "cell_type": "code",
      "source": [
        "class QuantumCircuit:\n",
        "    \"\"\" \n",
        "    This class provides a simple interface for interaction \n",
        "    with the quantum circuit \n",
        "    \"\"\"\n",
        "    \n",
        "    def __init__(self, n_qubits, backend, shots):\n",
        "        # --- Circuit definition ---\n",
        "        self._circuit = qiskit.QuantumCircuit(n_qubits)\n",
        "        \n",
        "        all_qubits = [i for i in range(n_qubits)]\n",
        "        self.theta = qiskit.circuit.Parameter('theta')\n",
        "        \n",
        "        self._circuit.h(all_qubits)\n",
        "        self._circuit.barrier()\n",
        "        self._circuit.ry(self.theta, all_qubits)\n",
        "        \n",
        "        self._circuit.measure_all()\n",
        "        # ---------------------------\n",
        "\n",
        "        self.backend = backend\n",
        "        self.shots = shots\n",
        "    \n",
        "    def run(self, thetas):\n",
        "        t_qc = transpile(self._circuit,\n",
        "                         self.backend)\n",
        "        qobj = assemble(t_qc,\n",
        "                        shots=self.shots,\n",
        "                        parameter_binds = [{self.theta: theta} for theta in thetas])\n",
        "        job = self.backend.run(qobj)\n",
        "        result = job.result().get_counts()\n",
        "        \n",
        "        counts = np.array(list(result.values()))\n",
        "        states = np.array(list(result.keys())).astype(float)\n",
        "        \n",
        "        # Compute probabilities for each state\n",
        "        probabilities = counts / self.shots\n",
        "        # Get state expectation\n",
        "        expectation = np.sum(states * probabilities)\n",
        "        \n",
        "        return np.array([expectation])"
      ],
      "metadata": {
        "id": "qqZ4Bf7m6RoQ"
      },
      "execution_count": 19,
      "outputs": []
    },
    {
      "cell_type": "code",
      "source": [
        "import numpy as np\n",
        "import matplotlib.pyplot as plt\n",
        "\n",
        "import torch\n",
        "from torch.autograd import Function\n",
        "from torchvision import datasets, transforms\n",
        "import torch.optim as optim\n",
        "import torch.nn as nn\n",
        "import torch.nn.functional as F\n",
        "\n",
        "import qiskit\n",
        "from qiskit import transpile, assemble\n",
        "from qiskit.visualization import *"
      ],
      "metadata": {
        "id": "KAVZf72s_7l7"
      },
      "execution_count": 22,
      "outputs": []
    },
    {
      "cell_type": "code",
      "source": [
        "simulator = qiskit.Aer.get_backend('aer_simulator')\n",
        "\n",
        "circuit = QuantumCircuit(1, simulator, 100)\n",
        "print('Expected value for rotation pi {}'.format(circuit.run([np.pi])[0]))\n",
        "circuit._circuit.draw()"
      ],
      "metadata": {
        "colab": {
          "base_uri": "https://localhost:8080/",
          "height": 111
        },
        "id": "E_IJIC0V6jQ3",
        "outputId": "dbca9f70-72a7-41c1-e180-4b14c1b56523"
      },
      "execution_count": 23,
      "outputs": [
        {
          "output_type": "stream",
          "name": "stdout",
          "text": [
            "Expected value for rotation pi 0.53\n"
          ]
        },
        {
          "output_type": "execute_result",
          "data": {
            "text/html": [
              "<pre style=\"word-wrap: normal;white-space: pre;background: #fff0;line-height: 1.1;font-family: &quot;Courier New&quot;,Courier,monospace\">        ┌───┐ ░ ┌───────────┐ ░ ┌─┐\n",
              "     q: ┤ H ├─░─┤ Ry(theta) ├─░─┤M├\n",
              "        └───┘ ░ └───────────┘ ░ └╥┘\n",
              "meas: 1/═════════════════════════╩═\n",
              "                                 0 </pre>"
            ],
            "text/plain": [
              "        ┌───┐ ░ ┌───────────┐ ░ ┌─┐\n",
              "     q: ┤ H ├─░─┤ Ry(theta) ├─░─┤M├\n",
              "        └───┘ ░ └───────────┘ ░ └╥┘\n",
              "meas: 1/═════════════════════════╩═\n",
              "                                 0 "
            ]
          },
          "metadata": {},
          "execution_count": 23
        }
      ]
    },
    {
      "cell_type": "code",
      "source": [
        "class HybridFunction(Function):\n",
        "    \"\"\" Hybrid quantum - classical function definition \"\"\"\n",
        "    \n",
        "    @staticmethod\n",
        "    def forward(ctx, inputs, quantum_circuit, shift):\n",
        "        \"\"\" Forward pass computation \"\"\"\n",
        "        ctx.shift = shift\n",
        "        ctx.quantum_circuit = quantum_circuit\n",
        "\n",
        "        expectation_z = []\n",
        "        for input in inputs:\n",
        "            expectation_z.append(ctx.quantum_circuit.run(input.tolist()))\n",
        "        result = torch.tensor(expectation_z).cuda()\n",
        "        \n",
        "        ctx.save_for_backward(inputs, result)\n",
        "        return result\n",
        "        \n",
        "    @staticmethod\n",
        "    def backward(ctx, grad_output):\n",
        "        \"\"\" Backward pass computation \"\"\"\n",
        "        input, expectation_z = ctx.saved_tensors\n",
        "        input_list = np.array(input.tolist())\n",
        "        \n",
        "        shift_right = input_list + np.ones(input_list.shape) * ctx.shift\n",
        "        shift_left = input_list - np.ones(input_list.shape) * ctx.shift\n",
        "        \n",
        "        gradients = []\n",
        "        for i in range(len(input_list)):\n",
        "            expectation_right = ctx.quantum_circuit.run(shift_right[i])\n",
        "            expectation_left  = ctx.quantum_circuit.run(shift_left[i])\n",
        "            \n",
        "            gradient = torch.tensor([expectation_right]).cuda() - torch.tensor([expectation_left]).cuda()\n",
        "            gradients.append(gradient)\n",
        "        \n",
        "        # gradients = np.array([gradients]).T\n",
        "        gradients = torch.tensor([gradients]).cuda()\n",
        "        gradients = torch.transpose(gradients, 0, 1)\n",
        "\n",
        "        # return torch.tensor([gradients]).float() * grad_output.float(), None, None\n",
        "        return gradients.float() * grad_output.float(), None, None\n",
        "\n",
        "class Hybrid(nn.Module):\n",
        "    \"\"\" Hybrid quantum - classical layer definition \"\"\"\n",
        "    \n",
        "    def __init__(self, backend, shots, shift):\n",
        "        super(Hybrid, self).__init__()\n",
        "        self.quantum_circuit = QuantumCircuit(1, backend, shots)\n",
        "        self.shift = shift\n",
        "        \n",
        "    def forward(self, input):\n",
        "        return HybridFunction.apply(input, self.quantum_circuit, self.shift)"
      ],
      "metadata": {
        "id": "wrq0Z2Wy6lf2"
      },
      "execution_count": 24,
      "outputs": []
    },
    {
      "cell_type": "code",
      "source": [
        "n_samples = 512\n",
        "batch_size = 256\n",
        "\n",
        "X_train = datasets.MNIST(root='./data', train=True, download=True,\n",
        "                         transform=transforms.Compose([transforms.ToTensor()]))\n",
        "\n",
        "X_train.data = X_train.data[:n_samples]\n",
        "X_train.targets = X_train.targets[:n_samples]\n",
        "\n",
        "train_loader = torch.utils.data.DataLoader(X_train, batch_size=batch_size, shuffle=True)\n",
        "# check MNIST data"
      ],
      "metadata": {
        "id": "c8nsTM-D7T2u"
      },
      "execution_count": 26,
      "outputs": []
    },
    {
      "cell_type": "code",
      "source": [
        "n_samples_show = 6\n",
        "\n",
        "data_iter = iter(train_loader)\n",
        "fig, axes = plt.subplots(nrows=1, ncols=n_samples_show, figsize=(10, 3))\n",
        "\n",
        "images, targets = data_iter.__next__()\n",
        "\n",
        "\n",
        "while n_samples_show > 0:\n",
        "    axes[n_samples_show - 1].imshow(images[n_samples_show].numpy().squeeze(), cmap='gray')\n",
        "    axes[n_samples_show - 1].set_xticks([])\n",
        "    axes[n_samples_show - 1].set_yticks([])\n",
        "    axes[n_samples_show - 1].set_title(\"Labeled: {}\".format(int(targets[n_samples_show])))\n",
        "    \n",
        "    n_samples_show -= 1"
      ],
      "metadata": {
        "colab": {
          "base_uri": "https://localhost:8080/",
          "height": 130
        },
        "id": "8L2UsYYc7Vdq",
        "outputId": "8b34cc87-94dd-4a14-a2c8-5f6907701d76"
      },
      "execution_count": 27,
      "outputs": [
        {
          "output_type": "display_data",
          "data": {
            "image/png": "[encoded data removed]",
            "text/plain": [
              "<Figure size 720x216 with 6 Axes>"
            ]
          },
          "metadata": {}
        }
      ]
    },
    {
      "cell_type": "code",
      "source": [
        "n_samples = 2048\n",
        "\n",
        "X_test = datasets.MNIST(root='./data', train=False, download=True,\n",
        "                        transform=transforms.Compose([transforms.ToTensor()]))\n",
        "\n",
        "# idx = np.append(np.where(X_test.targets == 0)[0][:n_samples], \n",
        "#                 np.where(X_test.targets == 1)[0][:n_samples])\n",
        "\n",
        "X_test.data = X_test.data[:n_samples]\n",
        "X_test.targets = X_test.targets[:n_samples]\n",
        "\n",
        "test_loader = torch.utils.data.DataLoader(X_test, batch_size=batch_size, shuffle=True)\n"
      ],
      "metadata": {
        "id": "Hfyjc5Kf7W7q"
      },
      "execution_count": 28,
      "outputs": []
    },
    {
      "cell_type": "code",
      "source": [
        "class Net(nn.Module):\n",
        "    def __init__(self):\n",
        "        super(Net, self).__init__()\n",
        "        self.conv1 = nn.Conv2d(1, 6, kernel_size=5)\n",
        "        self.conv2 = nn.Conv2d(6, 16, kernel_size=5)\n",
        "        self.dropout = nn.Dropout2d()\n",
        "        self.fc1 = nn.Linear(256, 64)\n",
        "        self.fc2 = nn.Linear(64, 10)\n",
        "        # self.hybrid = Hybrid(qiskit.Aer.get_backend('qasm_simulator'), 100, np.pi / 2)\n",
        "        self.hybrid = [Hybrid(qiskit.Aer.get_backend('qasm_simulator'), 100, np.pi / 2) for i in range(10)]\n",
        "\n",
        "    def forward(self, x):\n",
        "        x = F.relu(self.conv1(x))\n",
        "        x = F.max_pool2d(x, 2)\n",
        "        x = F.relu(self.conv2(x))\n",
        "        x = F.max_pool2d(x, 2)\n",
        "        x = self.dropout(x)\n",
        "        # x = x.view(-1, 256)\n",
        "        x = torch.flatten(x, start_dim=1)\n",
        "        x = F.relu(self.fc1(x))\n",
        "        x = self.fc2(x)\n",
        "        x = torch.chunk(x, 10, dim=1)\n",
        "        # x = self.hybrid(x)\n",
        "        x = tuple([hy(x_) for hy, x_ in zip(self.hybrid, x)])\n",
        "        return torch.cat(x, -1)"
      ],
      "metadata": {
        "id": "rMutExyM7ZXX"
      },
      "execution_count": 29,
      "outputs": []
    },
    {
      "cell_type": "code",
      "source": [
        "model = Net().cuda()\n",
        "\n",
        "summary(model, (1, 28, 28))"
      ],
      "metadata": {
        "colab": {
          "base_uri": "https://localhost:8080/"
        },
        "id": "DXFVRRZv7bBf",
        "outputId": "c2791d25-93da-405d-dfa4-f57bd5009fdd"
      },
      "execution_count": 30,
      "outputs": [
        {
          "output_type": "stream",
          "name": "stderr",
          "text": [
            "/usr/local/lib/python3.7/dist-packages/ipykernel_launcher.py:13: UserWarning: Creating a tensor from a list of numpy.ndarrays is extremely slow. Please consider converting the list to a single numpy.ndarray with numpy.array() before converting to a tensor. (Triggered internally at  ../torch/csrc/utils/tensor_new.cpp:201.)\n",
            "  del sys.path[0]\n"
          ]
        },
        {
          "output_type": "stream",
          "name": "stdout",
          "text": [
            "----------------------------------------------------------------\n",
            "        Layer (type)               Output Shape         Param #\n",
            "================================================================\n",
            "            Conv2d-1            [-1, 6, 24, 24]             156\n",
            "            Conv2d-2             [-1, 16, 8, 8]           2,416\n",
            "         Dropout2d-3             [-1, 16, 4, 4]               0\n",
            "            Linear-4                   [-1, 64]          16,448\n",
            "            Linear-5                   [-1, 10]             650\n",
            "================================================================\n",
            "Total params: 19,670\n",
            "Trainable params: 19,670\n",
            "Non-trainable params: 0\n",
            "----------------------------------------------------------------\n",
            "Input size (MB): 0.00\n",
            "Forward/backward pass size (MB): 0.04\n",
            "Params size (MB): 0.08\n",
            "Estimated Total Size (MB): 0.11\n",
            "----------------------------------------------------------------\n"
          ]
        }
      ]
    },
    {
      "cell_type": "code",
      "source": [
        "optimizer = optim.Adam(model.parameters(), lr=0.001)\n",
        "# loss_func = nn.NLLLoss()\n",
        "loss_func = nn.CrossEntropyLoss().cuda()\n",
        "\n",
        "epochs = 50\n",
        "loss_list = []\n",
        "\n",
        "model.train()\n",
        "for epoch in range(epochs):\n",
        "    total_loss = []\n",
        "    for batch_idx, (data, target) in enumerate(train_loader):\n",
        "        optimizer.zero_grad()\n",
        "\n",
        "        data = data.cuda()\n",
        "        target = target.cuda()\n",
        "        \n",
        "        # Forward pass\n",
        "        output = model(data).cuda()\n",
        "\n",
        "        # print(\"data  \", data.size())\n",
        "        # print(\"output\", output.size())\n",
        "        # print(\"target\", target.size())\n",
        "\n",
        "        # Calculating loss\n",
        "        loss = loss_func(output, target)\n",
        "\n",
        "        # Backward pass\n",
        "        loss.backward()\n",
        "\n",
        "        # Optimize the weights\n",
        "        optimizer.step()\n",
        "        \n",
        "        total_loss.append(loss.item())\n",
        "    loss_list.append(sum(total_loss)/len(total_loss))\n",
        "    print('Training [{:.0f}%]\\tLoss: {:.4f}'.format(\n",
        "        100. * (epoch + 1) / epochs, loss_list[-1]))"
      ],
      "metadata": {
        "colab": {
          "base_uri": "https://localhost:8080/"
        },
        "id": "MhuFWDus7cae",
        "outputId": "9e1731ea-784c-44e8-c424-2a1acfa43ded"
      },
      "execution_count": 31,
      "outputs": [
        {
          "output_type": "stream",
          "name": "stdout",
          "text": [
            "Training [2%]\tLoss: 2.3013\n",
            "Training [4%]\tLoss: 2.2985\n",
            "Training [6%]\tLoss: 2.2913\n",
            "Training [8%]\tLoss: 2.2850\n",
            "Training [10%]\tLoss: 2.2719\n",
            "Training [12%]\tLoss: 2.2621\n",
            "Training [14%]\tLoss: 2.2457\n",
            "Training [16%]\tLoss: 2.2218\n",
            "Training [18%]\tLoss: 2.2036\n",
            "Training [20%]\tLoss: 2.1656\n",
            "Training [22%]\tLoss: 2.1336\n",
            "Training [24%]\tLoss: 2.0968\n",
            "Training [26%]\tLoss: 2.0542\n",
            "Training [28%]\tLoss: 1.9985\n",
            "Training [30%]\tLoss: 1.9701\n",
            "Training [32%]\tLoss: 1.9329\n",
            "Training [34%]\tLoss: 1.9071\n",
            "Training [36%]\tLoss: 1.8824\n",
            "Training [38%]\tLoss: 1.8573\n",
            "Training [40%]\tLoss: 1.8344\n",
            "Training [42%]\tLoss: 1.8493\n",
            "Training [44%]\tLoss: 1.8226\n",
            "Training [46%]\tLoss: 1.8082\n",
            "Training [48%]\tLoss: 1.8161\n",
            "Training [50%]\tLoss: 1.7912\n",
            "Training [52%]\tLoss: 1.7952\n",
            "Training [54%]\tLoss: 1.7819\n",
            "Training [56%]\tLoss: 1.7828\n",
            "Training [58%]\tLoss: 1.7751\n",
            "Training [60%]\tLoss: 1.7697\n",
            "Training [62%]\tLoss: 1.7629\n",
            "Training [64%]\tLoss: 1.7695\n",
            "Training [66%]\tLoss: 1.7516\n",
            "Training [68%]\tLoss: 1.7525\n",
            "Training [70%]\tLoss: 1.7536\n",
            "Training [72%]\tLoss: 1.7441\n",
            "Training [74%]\tLoss: 1.7378\n",
            "Training [76%]\tLoss: 1.7291\n",
            "Training [78%]\tLoss: 1.7309\n",
            "Training [80%]\tLoss: 1.7316\n",
            "Training [82%]\tLoss: 1.7434\n",
            "Training [84%]\tLoss: 1.7259\n",
            "Training [86%]\tLoss: 1.7216\n",
            "Training [88%]\tLoss: 1.7214\n",
            "Training [90%]\tLoss: 1.7179\n",
            "Training [92%]\tLoss: 1.7091\n",
            "Training [94%]\tLoss: 1.7119\n",
            "Training [96%]\tLoss: 1.7110\n",
            "Training [98%]\tLoss: 1.7028\n",
            "Training [100%]\tLoss: 1.7107\n"
          ]
        }
      ]
    },
    {
      "cell_type": "code",
      "source": [
        "plt.plot(loss_list)\n",
        "plt.title('Hybrid NN Training Convergence')\n",
        "plt.xlabel('Training Iterations')\n",
        "plt.ylabel('Neg Log Likelihood Loss')"
      ],
      "metadata": {
        "colab": {
          "base_uri": "https://localhost:8080/",
          "height": 312
        },
        "id": "5_ZPeOVl7eSH",
        "outputId": "9dcfbf34-9ea2-4091-cf02-c4489a478349"
      },
      "execution_count": 32,
      "outputs": [
        {
          "output_type": "execute_result",
          "data": {
            "text/plain": [
              "Text(0, 0.5, 'Neg Log Likelihood Loss')"
            ]
          },
          "metadata": {},
          "execution_count": 32
        },
        {
          "output_type": "display_data",
          "data": {
            "image/png": "[encoded data removed]",
            "text/plain": [
              "<Figure size 432x288 with 1 Axes>"
            ]
          },
          "metadata": {
            "needs_background": "light"
          }
        }
      ]
    },
    {
      "cell_type": "code",
      "source": [
        "model.eval()\n",
        "with torch.no_grad():\n",
        "    \n",
        "    correct = 0\n",
        "    for batch_idx, (data, target) in enumerate(test_loader):\n",
        "        \n",
        "        data = data.cuda()\n",
        "        target = target.cuda()\n",
        "\n",
        "        output = model(data).cuda()\n",
        "        \n",
        "        pred = output.argmax(dim=1, keepdim=True) \n",
        "        correct += pred.eq(target.view_as(pred)).sum().item()\n",
        "        \n",
        "        loss = loss_func(output, target)\n",
        "        total_loss.append(loss.item())\n",
        "        \n",
        "    print('Performance on test data:\\n\\tLoss: {:.4f}\\n\\tAccuracy: {:.1f}%'.format(\n",
        "        sum(total_loss) / len(total_loss),\n",
        "        correct / len(test_loader) * 100 / batch_size)\n",
        "        )"
      ],
      "metadata": {
        "colab": {
          "base_uri": "https://localhost:8080/"
        },
        "id": "XaGWji5s7gHF",
        "outputId": "ca49a13f-36df-4cf7-e9f8-4f14463c5c78"
      },
      "execution_count": 33,
      "outputs": [
        {
          "output_type": "stream",
          "name": "stdout",
          "text": [
            "Performance on test data:\n",
            "\tLoss: 1.7341\n",
            "\tAccuracy: 81.9%\n"
          ]
        }
      ]
    },
    {
      "cell_type": "code",
      "source": [
        "n_samples_show = 8\n",
        "count = 0\n",
        "fig, axes = plt.subplots(nrows=1, ncols=n_samples_show, figsize=(10, 3))\n",
        "\n",
        "model.eval()\n",
        "with torch.no_grad():\n",
        "    for batch_idx, (data, target) in enumerate(test_loader):\n",
        "        if count == n_samples_show:\n",
        "            break\n",
        "        \n",
        "        data_cuda = data.cuda()\n",
        "        target_cuda = target.cuda()\n",
        "\n",
        "        output_cuda = model(data_cuda).cuda()\n",
        "        \n",
        "        pred = output_cuda.argmax(dim=1, keepdim=True) \n",
        "\n",
        "        axes[count].imshow(data[count].numpy().squeeze(), cmap='gray')\n",
        "\n",
        "        axes[count].set_xticks([])\n",
        "        axes[count].set_yticks([])\n",
        "        axes[count].set_title('Predicted {}'.format(pred[count].item()))\n",
        "        \n",
        "        count += 1"
      ],
      "metadata": {
        "colab": {
          "base_uri": "https://localhost:8080/",
          "height": 110
        },
        "id": "2F0Qn3T-7hqB",
        "outputId": "95305a51-68ca-4f78-9a74-38b6b183589a"
      },
      "execution_count": 34,
      "outputs": [
        {
          "output_type": "display_data",
          "data": {
            "image/png": "[encoded data removed]",
            "text/plain": [
              "<Figure size 720x216 with 8 Axes>"
            ]
          },
          "metadata": {}
        }
      ]
    }
  ]
}