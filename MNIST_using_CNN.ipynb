{
  "nbformat": 4,
  "nbformat_minor": 0,
  "metadata": {
    "colab": {
      "name": "MNIST_using_CNN.ipynb",
      "provenance": []
    },
    "kernelspec": {
      "name": "python3",
      "display_name": "Python 3"
    },
    "language_info": {
      "name": "python"
    }
  },
  "cells": [
    {
      "cell_type": "markdown",
      "source": [
        "## MNIST Digit Recognizer CNN"
      ],
      "metadata": {
        "id": "lJEe5ABxKpl7"
      }
    },
    {
      "cell_type": "markdown",
      "source": [
        "#### Import TensorFlow into the program"
      ],
      "metadata": {
        "id": "qRkLpVb-Ks_G"
      }
    },
    {
      "cell_type": "code",
      "execution_count": 6,
      "metadata": {
        "colab": {
          "base_uri": "https://localhost:8080/"
        },
        "id": "SWjOplOSKiPw",
        "outputId": "1acb0add-ae45-49bb-86b1-2839ec4dc361"
      },
      "outputs": [
        {
          "output_type": "stream",
          "name": "stdout",
          "text": [
            "TensorFlow version: 2.8.0\n"
          ]
        }
      ],
      "source": [
        "import tensorflow as tf\n",
        "print(\"TensorFlow version:\", tf.__version__)\n",
        "\n",
        "from tensorflow.keras.layers import Dense, Flatten, Conv2D\n",
        "from tensorflow.keras import Model"
      ]
    },
    {
      "cell_type": "markdown",
      "source": [
        "### Load and Prepare the MNIST dataset"
      ],
      "metadata": {
        "id": "9xZfD5B2Mf1h"
      }
    },
    {
      "cell_type": "code",
      "source": [
        "mnist = tf.keras.datasets.mnist                              # getting the MNIST dataset from keras\n",
        "\n",
        "(x_train, y_train), (x_test, y_test) = mnist.load_data()     # doing the test and train split\n",
        "x_train, x_test = x_train / 255.0, x_test / 255.0            # normalizing the pixel values\n",
        "\n",
        "# Add a channels dimension\n",
        "x_train = x_train[..., tf.newaxis].astype(\"float32\")         # adding dimensions\n",
        "x_test = x_test[..., tf.newaxis].astype(\"float32\")"
      ],
      "metadata": {
        "id": "hPzY-knSK42g"
      },
      "execution_count": 7,
      "outputs": []
    },
    {
      "cell_type": "markdown",
      "source": [
        "Usinf ```tf.data``` to batch and reshuffle the dataset"
      ],
      "metadata": {
        "id": "xDupxhyIMwD2"
      }
    },
    {
      "cell_type": "code",
      "source": [
        "train_ds = tf.data.Dataset.from_tensor_slices(\n",
        "    (x_train, y_train)).shuffle(10000).batch(32)\n",
        "\n",
        "test_ds = tf.data.Dataset.from_tensor_slices((x_test, y_test)).batch(32)"
      ],
      "metadata": {
        "id": "TclZseg8LGH5"
      },
      "execution_count": 8,
      "outputs": []
    },
    {
      "cell_type": "markdown",
      "source": [
        "Building the ```tf.keras``` model usnig Keras model subclassing API"
      ],
      "metadata": {
        "id": "RWp_U__9M2S9"
      }
    },
    {
      "cell_type": "code",
      "source": [
        "class MyModel(Model):\n",
        "  def __init__(self):\n",
        "    super(MyModel, self).__init__()\n",
        "    self.conv1 = Conv2D(32, 3, activation='relu')\n",
        "    self.flatten = Flatten()\n",
        "    self.d1 = Dense(128, activation='relu')\n",
        "    self.d2 = Dense(10)\n",
        "\n",
        "  def call(self, x):\n",
        "    x = self.conv1(x)\n",
        "    x = self.flatten(x)\n",
        "    x = self.d1(x)\n",
        "    return self.d2(x)\n",
        "\n",
        "# Create an instance of the model\n",
        "model = MyModel()"
      ],
      "metadata": {
        "id": "4aJS_2FrLlH4"
      },
      "execution_count": 9,
      "outputs": []
    },
    {
      "cell_type": "markdown",
      "source": [
        "#### Choosing an optimizer and loss function for training"
      ],
      "metadata": {
        "id": "3XI5AOMhM9YF"
      }
    },
    {
      "cell_type": "code",
      "source": [
        "loss_object = tf.keras.losses.SparseCategoricalCrossentropy(from_logits=True)\n",
        "\n",
        "optimizer = tf.keras.optimizers.Adam()"
      ],
      "metadata": {
        "id": "K5PKladCLxYq"
      },
      "execution_count": 10,
      "outputs": []
    },
    {
      "cell_type": "markdown",
      "source": [
        "Select metrics to measure the loss and the accuracy of the model. Theese metrics accumulate the values over epochs and then print the overall result."
      ],
      "metadata": {
        "id": "L4IdzgdkNCd0"
      }
    },
    {
      "cell_type": "code",
      "source": [
        "train_loss = tf.keras.metrics.Mean(name='train_loss')\n",
        "train_accuracy = tf.keras.metrics.SparseCategoricalAccuracy(name='train_accuracy')\n",
        "\n",
        "test_loss = tf.keras.metrics.Mean(name='test_loss')\n",
        "test_accuracy = tf.keras.metrics.SparseCategoricalAccuracy(name='test_accuracy')"
      ],
      "metadata": {
        "id": "iKwR_QhOMRQP"
      },
      "execution_count": 11,
      "outputs": []
    },
    {
      "cell_type": "markdown",
      "source": [
        "Use the ```tf.GradientTape``` to train the model"
      ],
      "metadata": {
        "id": "nWwx63a2NNMH"
      }
    },
    {
      "cell_type": "code",
      "source": [
        "@tf.function\n",
        "def train_step(images, labels):\n",
        "  with tf.GradientTape() as tape:\n",
        "    # training=True is only needed if there are layers with different\n",
        "    # behavior during training versus inference (e.g. Dropout).\n",
        "    predictions = model(images, training=True)\n",
        "    loss = loss_object(labels, predictions)\n",
        "  gradients = tape.gradient(loss, model.trainable_variables)\n",
        "  optimizer.apply_gradients(zip(gradients, model.trainable_variables))\n",
        "\n",
        "  train_loss(loss)\n",
        "  train_accuracy(labels, predictions)"
      ],
      "metadata": {
        "id": "4v4Md9XQMSnO"
      },
      "execution_count": 12,
      "outputs": []
    },
    {
      "cell_type": "markdown",
      "source": [
        "### Test the model"
      ],
      "metadata": {
        "id": "LCSa_pURNSlo"
      }
    },
    {
      "cell_type": "code",
      "source": [
        "@tf.function\n",
        "def test_step(images, labels):\n",
        "  # training=False is only needed if there are layers with different\n",
        "  # behavior during training versus inference (e.g. Dropout).\n",
        "  predictions = model(images, training=False)\n",
        "  t_loss = loss_object(labels, predictions)\n",
        "\n",
        "  test_loss(t_loss)\n",
        "  test_accuracy(labels, predictions)"
      ],
      "metadata": {
        "id": "9j9hG5XuMTzX"
      },
      "execution_count": 13,
      "outputs": []
    },
    {
      "cell_type": "code",
      "source": [
        "EPOCHS = 10\n",
        "\n",
        "for epoch in range(EPOCHS):\n",
        "  # Reset the metrics at the start of the next epoch\n",
        "  train_loss.reset_states()\n",
        "  train_accuracy.reset_states()\n",
        "  test_loss.reset_states()\n",
        "  test_accuracy.reset_states()\n",
        "\n",
        "  for images, labels in train_ds:\n",
        "    train_step(images, labels)\n",
        "\n",
        "  for test_images, test_labels in test_ds:\n",
        "    test_step(test_images, test_labels)\n",
        "\n",
        "  print(\n",
        "    f'Epoch {epoch + 1}, '\n",
        "    f'Loss: {train_loss.result()}, '\n",
        "    f'Accuracy: {train_accuracy.result() * 100}, '\n",
        "    f'Test Loss: {test_loss.result()}, '\n",
        "    f'Test Accuracy: {test_accuracy.result() * 100}'\n",
        "  )"
      ],
      "metadata": {
        "colab": {
          "base_uri": "https://localhost:8080/"
        },
        "id": "8dWradClMVBB",
        "outputId": "6aa06303-59f4-4a9c-98c9-bc5f621d43cb"
      },
      "execution_count": 14,
      "outputs": [
        {
          "output_type": "stream",
          "name": "stdout",
          "text": [
            "Epoch 1, Loss: 0.13120925426483154, Accuracy: 96.00333404541016, Test Loss: 0.058929335325956345, Test Accuracy: 97.98999786376953\n",
            "Epoch 2, Loss: 0.042195066809654236, Accuracy: 98.68999481201172, Test Loss: 0.06397895514965057, Test Accuracy: 98.13999938964844\n",
            "Epoch 3, Loss: 0.02236928977072239, Accuracy: 99.24333190917969, Test Loss: 0.05580178648233414, Test Accuracy: 98.1500015258789\n",
            "Epoch 4, Loss: 0.013433258980512619, Accuracy: 99.53666687011719, Test Loss: 0.05988061800599098, Test Accuracy: 98.30999755859375\n",
            "Epoch 5, Loss: 0.008202935568988323, Accuracy: 99.76000213623047, Test Loss: 0.06544485688209534, Test Accuracy: 98.47000122070312\n",
            "Epoch 6, Loss: 0.007855645380914211, Accuracy: 99.73500061035156, Test Loss: 0.0585893914103508, Test Accuracy: 98.55999755859375\n",
            "Epoch 7, Loss: 0.005342915188521147, Accuracy: 99.81832885742188, Test Loss: 0.06396593153476715, Test Accuracy: 98.54000091552734\n",
            "Epoch 8, Loss: 0.005949209909886122, Accuracy: 99.78666687011719, Test Loss: 0.06672856211662292, Test Accuracy: 98.4000015258789\n",
            "Epoch 9, Loss: 0.002905741333961487, Accuracy: 99.89833068847656, Test Loss: 0.08621709048748016, Test Accuracy: 98.04000091552734\n",
            "Epoch 10, Loss: 0.0036619845777750015, Accuracy: 99.8616714477539, Test Loss: 0.08626510202884674, Test Accuracy: 98.36000061035156\n"
          ]
        }
      ]
    },
    {
      "cell_type": "markdown",
      "source": [
        "The Image classifier is now trained to around 98-99% accuracy on this dataset."
      ],
      "metadata": {
        "id": "kW4v_iHdNXKG"
      }
    }
  ]
}